{
 "cells": [
  {
   "cell_type": "code",
   "execution_count": 5,
   "metadata": {
    "collapsed": false
   },
   "outputs": [],
   "source": [
    "import numpy as np\n",
    "import pandas as pd\n",
    "import matplotlib.pyplot as plt\n",
    "import seaborn as sns"
   ]
  },
  {
   "cell_type": "code",
   "execution_count": 4,
   "metadata": {
    "collapsed": false
   },
   "outputs": [],
   "source": [
    "from sklearn.model_selection import train_test_split\n",
    "import re\n",
    "from multiprocessing import Pool\n",
    "import nltk\n",
    "import string\n",
    "from nltk.tokenize import casual_tokenize,TweetTokenizer\n",
    "from nltk.stem.porter import PorterStemmer\n",
    "from nltk.stem.snowball import SnowballStemmer\n",
    "from functools import partial\n",
    "from sklearn.feature_extraction.text import TfidfVectorizer,CountVectorizer\n",
    "from sklearn.decomposition import TruncatedSVD\n",
    "from sklearn.naive_bayes import MultinomialNB\n",
    "from sklearn.metrics import accuracy_score\n",
    "from sklearn.metrics import confusion_matrix,classification_report,f1_score\n",
    "from imblearn.over_sampling import SMOTE\n",
    "from imblearn.combine import SMOTETomek\n",
    "from sklearn.preprocessing import StandardScaler,MinMaxScaler\n",
    "from imblearn.pipeline import Pipeline as Pipeline_imb"
   ]
  },
  {
   "cell_type": "code",
   "execution_count": 3,
   "metadata": {
    "collapsed": true
   },
   "outputs": [],
   "source": [
    "from sklearn.model_selection import GridSearchCV,KFold,StratifiedKFold\n",
    "from sklearn.pipeline import Pipeline\n",
    "from imblearn.under_sampling import RandomUnderSampler\n",
    "from sklearn.base import TransformerMixin"
   ]
  },
  {
   "cell_type": "code",
   "execution_count": 6,
   "metadata": {
    "collapsed": false
   },
   "outputs": [],
   "source": [
    "pd.set_option('display.max_colwidth',-1)\n",
    "% matplotlib inline\n",
    "plt.style.use('seaborn-pastel')\n",
    "pd.options.display.max_colwidth = -1"
   ]
  },
  {
   "cell_type": "markdown",
   "metadata": {},
   "source": [
    "### Dataset from https://www.kaggle.com/speckledpingu/RawTwitterFeeds\n",
    "### Description:\n",
    "This is a dataset of tweets from various active scientists and personalities ranging from Donald Trump and Hillary Clinton to Neil deGrasse Tyson. The data was scraped using JavaScript directly off of Twitter's website and has been dumped from JSON into CSV using Pandas read_json and to_csv feature.\n",
    "\n",
    "\n",
    "Twitter is an online news and social networking service on which users post and interact with messages known as \"tweets\". Tweets were originally restricted to 140 characters, but on November 7, 2017, this limit was doubled. \n",
    "### Task:\n",
    "Is 140 characters enough to identify their author?\n",
    "\n",
    "Identify the author of tweet accoring to analysis of tweets's content (with usernames cleaned)"
   ]
  },
  {
   "cell_type": "markdown",
   "metadata": {},
   "source": [
    "### 1. Reading data"
   ]
  },
  {
   "cell_type": "code",
   "execution_count": 7,
   "metadata": {
    "collapsed": true
   },
   "outputs": [],
   "source": [
    "df = pd.read_csv('Data/famous_tweets/AllTweets.csv',usecols=['text','author','link'])"
   ]
  },
  {
   "cell_type": "code",
   "execution_count": 8,
   "metadata": {
    "collapsed": false
   },
   "outputs": [
    {
     "data": {
      "text/html": [
       "<div>\n",
       "<style scoped>\n",
       "    .dataframe tbody tr th:only-of-type {\n",
       "        vertical-align: middle;\n",
       "    }\n",
       "\n",
       "    .dataframe tbody tr th {\n",
       "        vertical-align: top;\n",
       "    }\n",
       "\n",
       "    .dataframe thead th {\n",
       "        text-align: right;\n",
       "    }\n",
       "</style>\n",
       "<table border=\"1\" class=\"dataframe\">\n",
       "  <thead>\n",
       "    <tr style=\"text-align: right;\">\n",
       "      <th></th>\n",
       "      <th>link</th>\n",
       "      <th>text</th>\n",
       "      <th>author</th>\n",
       "    </tr>\n",
       "  </thead>\n",
       "  <tbody>\n",
       "    <tr>\n",
       "      <th>0</th>\n",
       "      <td>/NASA/status/787029214612586496</td>\n",
       "      <td>New software on the @Space_Station will make data communications faster and easier for hundreds of scientists: http://go.nasa.gov/2dQrLto pic.twitter.com/weIfEomT9x</td>\n",
       "      <td>NASA</td>\n",
       "    </tr>\n",
       "    <tr>\n",
       "      <th>1</th>\n",
       "      <td>/NASA/status/787008587927281664</td>\n",
       "      <td>READY for Launch! @OrbitalATK's #Antares rocket &amp; cargo ship set to lift off at 8:03pm ET Sunday to @Space_Station: http://go.nasa.gov/2egj5e9 pic.twitter.com/pwB3mYIrrP</td>\n",
       "      <td>NASA</td>\n",
       "    </tr>\n",
       "    <tr>\n",
       "      <th>2</th>\n",
       "      <td>/NASA/status/787042156116664320</td>\n",
       "      <td>Rocket launch at 8:03pm ET Sunday to deliver cargo to @Space_Station. Are you in the launch viewing area? More: http://go.nasa.gov/2egB9Vw pic.twitter.com/eKMHk7eHRV</td>\n",
       "      <td>NASA</td>\n",
       "    </tr>\n",
       "    <tr>\n",
       "      <th>3</th>\n",
       "      <td>/NASA/status/787284414732472320</td>\n",
       "      <td>What happened this week at NASA? @POTUS outlined space exploration's future. Also highlighted: #WHFrontiers Conference &amp; @NASA_Orion. Watch:pic.twitter.com/4UxeBWVhee</td>\n",
       "      <td>NASA</td>\n",
       "    </tr>\n",
       "    <tr>\n",
       "      <th>4</th>\n",
       "      <td>/NASA/status/786934496625102848</td>\n",
       "      <td>Energize! Study makes sure astronauts have energy they need. Watch our @Space_Station update. Q? Use #SpaceToGround. https://youtu.be/oKZvYztlpp4 pic.twitter.com/vo8HUB17Wm</td>\n",
       "      <td>NASA</td>\n",
       "    </tr>\n",
       "  </tbody>\n",
       "</table>\n",
       "</div>"
      ],
      "text/plain": [
       "                              link  \\\n",
       "0  /NASA/status/787029214612586496   \n",
       "1  /NASA/status/787008587927281664   \n",
       "2  /NASA/status/787042156116664320   \n",
       "3  /NASA/status/787284414732472320   \n",
       "4  /NASA/status/786934496625102848   \n",
       "\n",
       "                                                                                                                                                                           text  \\\n",
       "0  New software on the @Space_Station will make data communications faster and easier for hundreds of scientists: http://go.nasa.gov/2dQrLto pic.twitter.com/weIfEomT9x           \n",
       "1  READY for Launch! @OrbitalATK's #Antares rocket & cargo ship set to lift off at 8:03pm ET Sunday to @Space_Station: http://go.nasa.gov/2egj5e9 pic.twitter.com/pwB3mYIrrP      \n",
       "2  Rocket launch at 8:03pm ET Sunday to deliver cargo to @Space_Station. Are you in the launch viewing area? More: http://go.nasa.gov/2egB9Vw pic.twitter.com/eKMHk7eHRV          \n",
       "3  What happened this week at NASA? @POTUS outlined space exploration's future. Also highlighted: #WHFrontiers Conference & @NASA_Orion. Watch:pic.twitter.com/4UxeBWVhee         \n",
       "4  Energize! Study makes sure astronauts have energy they need. Watch our @Space_Station update. Q? Use #SpaceToGround. https://youtu.be/oKZvYztlpp4 pic.twitter.com/vo8HUB17Wm   \n",
       "\n",
       "  author  \n",
       "0  NASA   \n",
       "1  NASA   \n",
       "2  NASA   \n",
       "3  NASA   \n",
       "4  NASA   "
      ]
     },
     "execution_count": 8,
     "metadata": {},
     "output_type": "execute_result"
    }
   ],
   "source": [
    "df.head(5)"
   ]
  },
  {
   "cell_type": "markdown",
   "metadata": {},
   "source": [
    "### 2. Analysis of authors"
   ]
  },
  {
   "cell_type": "code",
   "execution_count": 9,
   "metadata": {
    "collapsed": false
   },
   "outputs": [
    {
     "data": {
      "text/plain": [
       "(88625, 3)"
      ]
     },
     "execution_count": 9,
     "metadata": {},
     "output_type": "execute_result"
    }
   ],
   "source": [
    "df.shape"
   ]
  },
  {
   "cell_type": "code",
   "execution_count": 10,
   "metadata": {
    "collapsed": false
   },
   "outputs": [
    {
     "data": {
      "text/plain": [
       "link      0\n",
       "text      0\n",
       "author    0\n",
       "dtype: int64"
      ]
     },
     "execution_count": 10,
     "metadata": {},
     "output_type": "execute_result"
    }
   ],
   "source": [
    "df.isnull().sum() # check null values"
   ]
  },
  {
   "cell_type": "code",
   "execution_count": 11,
   "metadata": {
    "collapsed": false,
    "scrolled": true
   },
   "outputs": [
    {
     "data": {
      "text/plain": [
       "DonaldTrump        17216\n",
       "NASA               15910\n",
       "KimKardashian      10688\n",
       "various            10440\n",
       "FiveThirtyEight    9761 \n",
       "BarackObama        6896 \n",
       "RichardDawkins     5839 \n",
       "AdamSavage         4872 \n",
       "HillaryClinton     3356 \n",
       "deGrasseTyson      2428 \n",
       "ScottKelly         1219 \n",
       "Name: author, dtype: int64"
      ]
     },
     "execution_count": 11,
     "metadata": {},
     "output_type": "execute_result"
    }
   ],
   "source": [
    "df.author.value_counts()"
   ]
  },
  {
   "cell_type": "markdown",
   "metadata": {},
   "source": [
    "### 2.1 What are \"various\" authors?"
   ]
  },
  {
   "cell_type": "code",
   "execution_count": 12,
   "metadata": {
    "collapsed": false
   },
   "outputs": [],
   "source": [
    "various_authors = [a[1] for a in df.loc[df.author == 'various','link'].str.split('/')]"
   ]
  },
  {
   "cell_type": "code",
   "execution_count": 13,
   "metadata": {
    "collapsed": false
   },
   "outputs": [],
   "source": [
    "df.loc[df.author == 'various','author'] = various_authors"
   ]
  },
  {
   "cell_type": "code",
   "execution_count": 14,
   "metadata": {
    "collapsed": true
   },
   "outputs": [],
   "source": [
    "author_stats = df.author.value_counts()"
   ]
  },
  {
   "cell_type": "code",
   "execution_count": 15,
   "metadata": {
    "collapsed": false
   },
   "outputs": [
    {
     "data": {
      "text/plain": [
       "2416"
      ]
     },
     "execution_count": 15,
     "metadata": {},
     "output_type": "execute_result"
    }
   ],
   "source": [
    "len(author_stats)# there are 2416 authors"
   ]
  },
  {
   "cell_type": "code",
   "execution_count": 16,
   "metadata": {
    "collapsed": false
   },
   "outputs": [
    {
     "data": {
      "text/plain": [
       "DonaldTrump        17216\n",
       "NASA               15910\n",
       "KimKardashian      10688\n",
       "FiveThirtyEight    9761 \n",
       "BarackObama        6896 \n",
       "RichardDawkins     5839 \n",
       "AdamSavage         4872 \n",
       "HillaryClinton     3356 \n",
       "deGrasseTyson      2428 \n",
       "kdnuggets          1572 \n",
       "ScottKelly         1219 \n",
       "datascigeek        667  \n",
       "chi2innovations    364  \n",
       "eelrekab           352  \n",
       "innova_scape       237  \n",
       "Name: author, dtype: int64"
      ]
     },
     "execution_count": 16,
     "metadata": {},
     "output_type": "execute_result"
    }
   ],
   "source": [
    "author_stats[:15]# we are taking into consideration authors with more than one thousand of tweets"
   ]
  },
  {
   "cell_type": "code",
   "execution_count": 17,
   "metadata": {
    "collapsed": false
   },
   "outputs": [],
   "source": [
    "names = np.array(author_stats[author_stats > 1000].index)"
   ]
  },
  {
   "cell_type": "code",
   "execution_count": 18,
   "metadata": {
    "collapsed": false
   },
   "outputs": [],
   "source": [
    "df = df.loc[df.author.isin(names)]"
   ]
  },
  {
   "cell_type": "code",
   "execution_count": 19,
   "metadata": {
    "collapsed": false
   },
   "outputs": [
    {
     "data": {
      "text/plain": [
       "DonaldTrump        17216\n",
       "NASA               15910\n",
       "KimKardashian      10688\n",
       "FiveThirtyEight    9761 \n",
       "BarackObama        6896 \n",
       "RichardDawkins     5839 \n",
       "AdamSavage         4872 \n",
       "HillaryClinton     3356 \n",
       "deGrasseTyson      2428 \n",
       "kdnuggets          1572 \n",
       "ScottKelly         1219 \n",
       "Name: author, dtype: int64"
      ]
     },
     "execution_count": 19,
     "metadata": {},
     "output_type": "execute_result"
    }
   ],
   "source": [
    "df.author.value_counts()# check"
   ]
  },
  {
   "cell_type": "code",
   "execution_count": 20,
   "metadata": {
    "collapsed": false
   },
   "outputs": [
    {
     "name": "stdout",
     "output_type": "stream",
     "text": [
      "Dataset contains 79757 tweets\n"
     ]
    }
   ],
   "source": [
    "print(\"Dataset contains {} tweets\".format(df.shape[0]))"
   ]
  },
  {
   "cell_type": "code",
   "execution_count": 21,
   "metadata": {
    "collapsed": false
   },
   "outputs": [
    {
     "name": "stdout",
     "output_type": "stream",
     "text": [
      "There are 11 authors of more than one thousand tweets. \n"
     ]
    }
   ],
   "source": [
    "print(\"There are {} authors of more than one thousand tweets. \".format(len(names)))"
   ]
  },
  {
   "cell_type": "markdown",
   "metadata": {},
   "source": [
    "### 2.2 Statistics for authors"
   ]
  },
  {
   "cell_type": "code",
   "execution_count": 22,
   "metadata": {
    "collapsed": false
   },
   "outputs": [
    {
     "name": "stdout",
     "output_type": "stream",
     "text": [
      "DonaldTrump        0.215856\n",
      "NASA               0.199481\n",
      "KimKardashian      0.134007\n",
      "FiveThirtyEight    0.122384\n",
      "BarackObama        0.086463\n",
      "RichardDawkins     0.073210\n",
      "AdamSavage         0.061086\n",
      "HillaryClinton     0.042078\n",
      "deGrasseTyson      0.030442\n",
      "kdnuggets          0.019710\n",
      "ScottKelly         0.015284\n",
      "Name: author, dtype: float64\n"
     ]
    }
   ],
   "source": [
    "author_counts = df.author.value_counts()\n",
    "print(author_counts / author_counts.sum())"
   ]
  },
  {
   "cell_type": "code",
   "execution_count": 23,
   "metadata": {
    "collapsed": false
   },
   "outputs": [
    {
     "data": {
      "image/png": "[encoded data removed]",
      "text/plain": [
       "<Figure size 432x288 with 1 Axes>"
      ]
     },
     "metadata": {},
     "output_type": "display_data"
    }
   ],
   "source": [
    "sns.barplot(x = author_counts.values,y = names,alpha = 0.7,orient=\"h\",palette='dark')\n",
    "plt.xlabel('Number of tweets');"
   ]
  },
  {
   "cell_type": "markdown",
   "metadata": {
    "collapsed": true
   },
   "source": [
    "### Note: \n",
    "Inbalanced dataset with 11 authors and number of tweets ranging from 1.2 thousand up to 17.2 thousand."
   ]
  },
  {
   "cell_type": "markdown",
   "metadata": {},
   "source": [
    "### 2.3 Converting author's name to categorical veriable"
   ]
  },
  {
   "cell_type": "code",
   "execution_count": 24,
   "metadata": {
    "collapsed": true
   },
   "outputs": [],
   "source": [
    "df.author = df.author.astype('category')"
   ]
  },
  {
   "cell_type": "code",
   "execution_count": 25,
   "metadata": {
    "collapsed": false
   },
   "outputs": [
    {
     "data": {
      "text/plain": [
       "Index(['AdamSavage', 'BarackObama', 'DonaldTrump', 'FiveThirtyEight',\n",
       "       'HillaryClinton', 'KimKardashian', 'NASA', 'RichardDawkins',\n",
       "       'ScottKelly', 'deGrasseTyson', 'kdnuggets'],\n",
       "      dtype='object')"
      ]
     },
     "execution_count": 25,
     "metadata": {},
     "output_type": "execute_result"
    }
   ],
   "source": [
    "df.author.cat.categories"
   ]
  },
  {
   "cell_type": "markdown",
   "metadata": {},
   "source": [
    "### 3. Splitting into train and test datasets"
   ]
  },
  {
   "cell_type": "code",
   "execution_count": 26,
   "metadata": {
    "collapsed": false
   },
   "outputs": [],
   "source": [
    "X_train,X_test,y_train,y_test = train_test_split(df.text,df.author,test_size = 0.2,stratify = df.author)"
   ]
  },
  {
   "cell_type": "code",
   "execution_count": 27,
   "metadata": {
    "collapsed": false
   },
   "outputs": [
    {
     "data": {
      "text/plain": [
       "DonaldTrump        13773\n",
       "NASA               12728\n",
       "KimKardashian      8550 \n",
       "FiveThirtyEight    7809 \n",
       "BarackObama        5517 \n",
       "RichardDawkins     4671 \n",
       "AdamSavage         3897 \n",
       "HillaryClinton     2685 \n",
       "deGrasseTyson      1942 \n",
       "kdnuggets          1258 \n",
       "ScottKelly         975  \n",
       "Name: author, dtype: int64"
      ]
     },
     "execution_count": 27,
     "metadata": {},
     "output_type": "execute_result"
    }
   ],
   "source": [
    "y_train.value_counts()"
   ]
  },
  {
   "cell_type": "markdown",
   "metadata": {},
   "source": [
    "### 3. Preprocessing"
   ]
  },
  {
   "cell_type": "markdown",
   "metadata": {},
   "source": [
    "### 3.1  Text cleaning - no hashtags, urls, pictures' links"
   ]
  },
  {
   "cell_type": "markdown",
   "metadata": {},
   "source": [
    "Removing:\n",
    "- \"#\" hashtags,\n",
    "- \"@\" at sign,\n",
    "- urls,\n",
    "- pictures links\n"
   ]
  },
  {
   "cell_type": "markdown",
   "metadata": {},
   "source": [
    "na razie usuwamy wszystie tagi i linki "
   ]
  },
  {
   "cell_type": "markdown",
   "metadata": {},
   "source": [
    "na razie nie usuwamy imion"
   ]
  },
  {
   "cell_type": "code",
   "execution_count": 28,
   "metadata": {
    "collapsed": false
   },
   "outputs": [
    {
     "ename": "NameError",
     "evalue": "name 'cleaned_tweets' is not defined",
     "output_type": "error",
     "traceback": [
      "\u001b[0;31m---------------------------------------------------------------------------\u001b[0m",
      "\u001b[0;31mNameError\u001b[0m                                 Traceback (most recent call last)",
      "\u001b[0;32m<ipython-input-28-224419e7e406>\u001b[0m in \u001b[0;36m<module>\u001b[0;34m()\u001b[0m\n\u001b[1;32m      1\u001b[0m \u001b[0;31m# może jednak trzeba usunąć\u001b[0m\u001b[0;34m\u001b[0m\u001b[0;34m\u001b[0m\u001b[0m\n\u001b[1;32m      2\u001b[0m \u001b[0mind\u001b[0m \u001b[0;34m=\u001b[0m \u001b[0;36m1011\u001b[0m\u001b[0;34m\u001b[0m\u001b[0m\n\u001b[0;32m----> 3\u001b[0;31m \u001b[0mprint\u001b[0m\u001b[0;34m(\u001b[0m\u001b[0mcleaned_tweets\u001b[0m\u001b[0;34m[\u001b[0m\u001b[0mind\u001b[0m\u001b[0;34m]\u001b[0m\u001b[0;34m)\u001b[0m\u001b[0;34m\u001b[0m\u001b[0m\n\u001b[0m\u001b[1;32m      4\u001b[0m \u001b[0mprint\u001b[0m\u001b[0;34m(\u001b[0m\u001b[0mprocessed_tweets\u001b[0m\u001b[0;34m[\u001b[0m\u001b[0mind\u001b[0m\u001b[0;34m]\u001b[0m\u001b[0;34m)\u001b[0m\u001b[0;34m\u001b[0m\u001b[0m\n\u001b[1;32m      5\u001b[0m \u001b[0mprint\u001b[0m\u001b[0;34m(\u001b[0m\u001b[0mtokens_length\u001b[0m\u001b[0;34m[\u001b[0m\u001b[0mind\u001b[0m\u001b[0;34m]\u001b[0m\u001b[0;34m)\u001b[0m\u001b[0;34m\u001b[0m\u001b[0m\n",
      "\u001b[0;31mNameError\u001b[0m: name 'cleaned_tweets' is not defined"
     ]
    }
   ],
   "source": [
    "# może jednak trzeba usunąć\n",
    "ind = 1011\n",
    "print(cleaned_tweets[ind])\n",
    "print(processed_tweets[ind])\n",
    "print(tokens_length[ind])\n",
    "print(words_count[ind])"
   ]
  },
  {
   "cell_type": "code",
   "execution_count": 29,
   "metadata": {
    "collapsed": false
   },
   "outputs": [],
   "source": [
    "class TweetCleaner(TransformerMixin):\n",
    "    def __init__(self,process=2):\n",
    "        self.process = process \n",
    "        \n",
    "    def cleaning_text(self,tweet):\n",
    "        '''\n",
    "        removes urls, pictures,# hashtags,@ at signs from tweet\n",
    "        return cleaned tweet, number of urls, pictures, # hastaags, @ at signs \n",
    "        '''\n",
    "        #urls\n",
    "        regex = re.compile(r'http[s]*://[\\w.\\-/\\\\]+')\n",
    "        url = len(regex.findall(tweet))\n",
    "        tweet = regex.sub('',tweet)\n",
    "\n",
    "        #pictures\n",
    "        regex = re.compile(r'pic.*')\n",
    "        pic = len(regex.findall(tweet))\n",
    "        tweet = regex.sub('',tweet)\n",
    "\n",
    "        # '#'hashtags\n",
    "        regex = re.compile(r'#\\w+')\n",
    "        hashtag = len(regex.findall(tweet))\n",
    "        tweet = regex.sub('',tweet)\n",
    "\n",
    "        # '@'at signs\n",
    "        regex = re.compile(r'@\\w+')\n",
    "        at_sign = len(regex.findall(tweet))\n",
    "        tweet = regex.sub('',tweet)\n",
    "\n",
    "        # multiple whitespaces\n",
    "        tweet = re.sub(r'\\s{2,}','',tweet)\n",
    "\n",
    "        return tweet,url,pic,hashtag,at_sign\n",
    "        \n",
    "    def fit(self,X,y=None):\n",
    "        return self\n",
    "    \n",
    "    def transform(self,X,y=None):\n",
    "        \n",
    "        pool = Pool(self.process)\n",
    "        result = pool.map(self.cleaning_text,X)\n",
    "        pool.close()\n",
    "        pool.join()\n",
    "        \n",
    "        cleaned_tweets = [res[0] for res in result]\n",
    "        urls = [res[1] for res in result]\n",
    "        pics = [res[2] for res in result]\n",
    "        hashtags = [res[3] for res in result]\n",
    "        at_signs = [res[4] for res in result]\n",
    "        \n",
    "        X_out = pd.DataFrame({\n",
    "            'text':cleaned_tweets,\n",
    "            'urls':urls,\n",
    "            'pics':pics,\n",
    "            'hashtags':hashtags,\n",
    "            'at_signs':at_signs\n",
    "        })\n",
    "        \n",
    "        return X_out\n",
    "    "
   ]
  },
  {
   "cell_type": "code",
   "execution_count": 30,
   "metadata": {
    "collapsed": true
   },
   "outputs": [],
   "source": [
    "cleaner = TweetCleaner(2)"
   ]
  },
  {
   "cell_type": "code",
   "execution_count": 31,
   "metadata": {
    "collapsed": false
   },
   "outputs": [],
   "source": [
    "X_cleaned = cleaner.fit_transform(X_train)"
   ]
  },
  {
   "cell_type": "code",
   "execution_count": 32,
   "metadata": {
    "collapsed": false
   },
   "outputs": [
    {
     "data": {
      "text/html": [
       "<div>\n",
       "<style scoped>\n",
       "    .dataframe tbody tr th:only-of-type {\n",
       "        vertical-align: middle;\n",
       "    }\n",
       "\n",
       "    .dataframe tbody tr th {\n",
       "        vertical-align: top;\n",
       "    }\n",
       "\n",
       "    .dataframe thead th {\n",
       "        text-align: right;\n",
       "    }\n",
       "</style>\n",
       "<table border=\"1\" class=\"dataframe\">\n",
       "  <thead>\n",
       "    <tr style=\"text-align: right;\">\n",
       "      <th></th>\n",
       "      <th>text</th>\n",
       "      <th>urls</th>\n",
       "      <th>pics</th>\n",
       "      <th>hashtags</th>\n",
       "      <th>at_signs</th>\n",
       "    </tr>\n",
       "  </thead>\n",
       "  <tbody>\n",
       "    <tr>\n",
       "      <th>0</th>\n",
       "      <td>To all those who wondered what boots I wore for Dumpster Diving, they were cheap, (150.00) leather, and bought on Haight St. Brand: Demonia.</td>\n",
       "      <td>0</td>\n",
       "      <td>0</td>\n",
       "      <td>0</td>\n",
       "      <td>0</td>\n",
       "    </tr>\n",
       "    <tr>\n",
       "      <th>1</th>\n",
       "      <td>\":How important do you think college is? Especially during these times..\"Very important</td>\n",
       "      <td>0</td>\n",
       "      <td>0</td>\n",
       "      <td>0</td>\n",
       "      <td>2</td>\n",
       "    </tr>\n",
       "    <tr>\n",
       "      <th>2</th>\n",
       "      <td>I find the photos of these children killed in Newtown in the New York Post heartbreaking.</td>\n",
       "      <td>0</td>\n",
       "      <td>0</td>\n",
       "      <td>1</td>\n",
       "      <td>0</td>\n",
       "    </tr>\n",
       "    <tr>\n",
       "      <th>3</th>\n",
       "      <td>I've realized that success requires 100% effort and 100% focus. Nothing less.</td>\n",
       "      <td>0</td>\n",
       "      <td>0</td>\n",
       "      <td>0</td>\n",
       "      <td>0</td>\n",
       "    </tr>\n",
       "    <tr>\n",
       "      <th>4</th>\n",
       "      <td>Fall colors busted out all over Pennsylvania this week. Check out these images from our Aqua satellite.</td>\n",
       "      <td>1</td>\n",
       "      <td>0</td>\n",
       "      <td>0</td>\n",
       "      <td>0</td>\n",
       "    </tr>\n",
       "  </tbody>\n",
       "</table>\n",
       "</div>"
      ],
      "text/plain": [
       "                                                                                                                                           text  \\\n",
       "0  To all those who wondered what boots I wore for Dumpster Diving, they were cheap, (150.00) leather, and bought on Haight St. Brand: Demonia.   \n",
       "1  \":How important do you think college is? Especially during these times..\"Very important                                                        \n",
       "2  I find the photos of these children killed in Newtown in the New York Post heartbreaking.                                                      \n",
       "3  I've realized that success requires 100% effort and 100% focus. Nothing less.                                                                  \n",
       "4  Fall colors busted out all over Pennsylvania this week. Check out these images from our Aqua satellite.                                        \n",
       "\n",
       "   urls  pics  hashtags  at_signs  \n",
       "0  0     0     0         0         \n",
       "1  0     0     0         2         \n",
       "2  0     0     1         0         \n",
       "3  0     0     0         0         \n",
       "4  1     0     0         0         "
      ]
     },
     "execution_count": 32,
     "metadata": {},
     "output_type": "execute_result"
    }
   ],
   "source": [
    "X_cleaned.head()"
   ]
  },
  {
   "cell_type": "markdown",
   "metadata": {},
   "source": [
    "### 3.3 Tokenization"
   ]
  },
  {
   "cell_type": "code",
   "execution_count": 33,
   "metadata": {
    "collapsed": true
   },
   "outputs": [],
   "source": [
    "class TweetProcessor(TransformerMixin):\n",
    "    def __init__(self,process=2):\n",
    "        self.process = process \n",
    "       \n",
    "    def processing_text(self,tweet,stopwords,stemmer):\n",
    "        '''\n",
    "        removes punctuation, stopwords, converts to stems \n",
    "        returns cleaned text, average length of words in tweet and number of words in tweet\n",
    "        '''\n",
    "        # remove cappital letters\n",
    "        tweet = tweet.lower()\n",
    "\n",
    "        # tokenizer for informal text\n",
    "        tokens = casual_tokenize(tweet)\n",
    "\n",
    "        # remove punctuation\n",
    "        tokens_no_punct = [token for token in tokens if not token in string.punctuation]\n",
    "\n",
    "        # number of words in tweet\n",
    "        words_count = len(tokens_no_punct)\n",
    "\n",
    "        # average length of words in tweet\n",
    "        token_len = [len(token) for token in tokens_no_punct]\n",
    "        if len(token_len) > 0 :\n",
    "            aver_len = np.array(token_len).mean()\n",
    "        else:\n",
    "            aver_len = 0\n",
    "\n",
    "        #remove stopwords\n",
    "        tokens_no_stopwords = [token for token in tokens_no_punct if not token in stopwords]\n",
    "\n",
    "        #stemming\n",
    "        stems = [stemmer.stem(token) for token in tokens_no_stopwords]\n",
    "\n",
    "        return ' '.join(stems),aver_len,words_count\n",
    "\n",
    "    def fit(self,X,y=None):\n",
    "        # find text column\n",
    "        self.key = X.select_dtypes(exclude='number').columns[0]\n",
    "        return self\n",
    "    \n",
    "    def transform(self,X,y=None):\n",
    "        \n",
    "        X = X.copy()\n",
    "        \n",
    "        X_text = X.pop(self.key)\n",
    "        \n",
    "        stopwords = nltk.corpus.stopwords.words('english')\n",
    "        porter_stemmer = PorterStemmer()\n",
    "        snawball_stemmer = SnowballStemmer('english')\n",
    "        \n",
    "        pool = Pool(self.process)\n",
    "        results = pool.map(partial(self.processing_text,stopwords=stopwords,stemmer=porter_stemmer),X_text)\n",
    "        pool.close()\n",
    "        pool.join()\n",
    "        \n",
    "        processed_tweets = [res[0] for res in results]\n",
    "        tokens_length = [res[1] for res in results]\n",
    "        words_count = [res[2] for res in results]\n",
    "        \n",
    "        X_out = pd.DataFrame({\n",
    "            'text':processed_tweets,\n",
    "            'tokens_length':tokens_length,\n",
    "            'words_count':words_count,\n",
    "        })\n",
    "    \n",
    "        return pd.concat([X,X_out],axis=1)"
   ]
  },
  {
   "cell_type": "code",
   "execution_count": 34,
   "metadata": {
    "collapsed": true
   },
   "outputs": [],
   "source": [
    "processor = TweetProcessor(2)"
   ]
  },
  {
   "cell_type": "code",
   "execution_count": 35,
   "metadata": {
    "collapsed": false
   },
   "outputs": [],
   "source": [
    "X_proc = processor.fit_transform(X_cleaned)"
   ]
  },
  {
   "cell_type": "code",
   "execution_count": 36,
   "metadata": {
    "collapsed": false
   },
   "outputs": [
    {
     "data": {
      "text/html": [
       "<div>\n",
       "<style scoped>\n",
       "    .dataframe tbody tr th:only-of-type {\n",
       "        vertical-align: middle;\n",
       "    }\n",
       "\n",
       "    .dataframe tbody tr th {\n",
       "        vertical-align: top;\n",
       "    }\n",
       "\n",
       "    .dataframe thead th {\n",
       "        text-align: right;\n",
       "    }\n",
       "</style>\n",
       "<table border=\"1\" class=\"dataframe\">\n",
       "  <thead>\n",
       "    <tr style=\"text-align: right;\">\n",
       "      <th></th>\n",
       "      <th>urls</th>\n",
       "      <th>pics</th>\n",
       "      <th>hashtags</th>\n",
       "      <th>at_signs</th>\n",
       "      <th>text</th>\n",
       "      <th>tokens_length</th>\n",
       "      <th>words_count</th>\n",
       "    </tr>\n",
       "  </thead>\n",
       "  <tbody>\n",
       "    <tr>\n",
       "      <th>0</th>\n",
       "      <td>0</td>\n",
       "      <td>0</td>\n",
       "      <td>0</td>\n",
       "      <td>0</td>\n",
       "      <td>wonder boot wore dumpster dive cheap 150.00 leather bought haight st brand demonia</td>\n",
       "      <td>4.541667</td>\n",
       "      <td>24</td>\n",
       "    </tr>\n",
       "    <tr>\n",
       "      <th>1</th>\n",
       "      <td>0</td>\n",
       "      <td>0</td>\n",
       "      <td>0</td>\n",
       "      <td>2</td>\n",
       "      <td>import think colleg especi time .. import</td>\n",
       "      <td>5.142857</td>\n",
       "      <td>14</td>\n",
       "    </tr>\n",
       "    <tr>\n",
       "      <th>2</th>\n",
       "      <td>0</td>\n",
       "      <td>0</td>\n",
       "      <td>1</td>\n",
       "      <td>0</td>\n",
       "      <td>find photo children kill newtown new york post heartbreak</td>\n",
       "      <td>4.562500</td>\n",
       "      <td>16</td>\n",
       "    </tr>\n",
       "    <tr>\n",
       "      <th>3</th>\n",
       "      <td>0</td>\n",
       "      <td>0</td>\n",
       "      <td>0</td>\n",
       "      <td>0</td>\n",
       "      <td>i'v realiz success requir 100 effort 100 focu noth less</td>\n",
       "      <td>5.166667</td>\n",
       "      <td>12</td>\n",
       "    </tr>\n",
       "    <tr>\n",
       "      <th>4</th>\n",
       "      <td>1</td>\n",
       "      <td>0</td>\n",
       "      <td>0</td>\n",
       "      <td>0</td>\n",
       "      <td>fall color bust pennsylvania week check imag aqua satellit</td>\n",
       "      <td>5.000000</td>\n",
       "      <td>17</td>\n",
       "    </tr>\n",
       "  </tbody>\n",
       "</table>\n",
       "</div>"
      ],
      "text/plain": [
       "   urls  pics  hashtags  at_signs  \\\n",
       "0  0     0     0         0          \n",
       "1  0     0     0         2          \n",
       "2  0     0     1         0          \n",
       "3  0     0     0         0          \n",
       "4  1     0     0         0          \n",
       "\n",
       "                                                                                 text  \\\n",
       "0  wonder boot wore dumpster dive cheap 150.00 leather bought haight st brand demonia   \n",
       "1  import think colleg especi time .. import                                            \n",
       "2  find photo children kill newtown new york post heartbreak                            \n",
       "3  i'v realiz success requir 100 effort 100 focu noth less                              \n",
       "4  fall color bust pennsylvania week check imag aqua satellit                           \n",
       "\n",
       "   tokens_length  words_count  \n",
       "0  4.541667       24           \n",
       "1  5.142857       14           \n",
       "2  4.562500       16           \n",
       "3  5.166667       12           \n",
       "4  5.000000       17           "
      ]
     },
     "execution_count": 36,
     "metadata": {},
     "output_type": "execute_result"
    }
   ],
   "source": [
    "X_proc.head()"
   ]
  },
  {
   "cell_type": "code",
   "execution_count": null,
   "metadata": {
    "collapsed": true
   },
   "outputs": [],
   "source": []
  },
  {
   "cell_type": "code",
   "execution_count": null,
   "metadata": {
    "collapsed": true
   },
   "outputs": [],
   "source": []
  },
  {
   "cell_type": "code",
   "execution_count": null,
   "metadata": {
    "collapsed": true
   },
   "outputs": [],
   "source": []
  },
  {
   "cell_type": "code",
   "execution_count": null,
   "metadata": {
    "collapsed": false
   },
   "outputs": [],
   "source": [
    "ind = 1011\n",
    "print(cleaned_tweets[ind])\n",
    "print(processed_tweets[ind])\n",
    "print(tokens_length[ind])\n",
    "print(words_count[ind])"
   ]
  },
  {
   "cell_type": "markdown",
   "metadata": {},
   "source": [
    "### 4. Classification"
   ]
  },
  {
   "cell_type": "markdown",
   "metadata": {},
   "source": [
    "### Undersample to optimize vectorizer parameters\n",
    "### TF-IDF + NaiveBayes"
   ]
  },
  {
   "cell_type": "code",
   "execution_count": 42,
   "metadata": {
    "collapsed": false
   },
   "outputs": [
    {
     "data": {
      "text/plain": [
       "(63805, 7)"
      ]
     },
     "execution_count": 42,
     "metadata": {},
     "output_type": "execute_result"
    }
   ],
   "source": [
    "X_proc.shape"
   ]
  },
  {
   "cell_type": "code",
   "execution_count": 43,
   "metadata": {
    "collapsed": false
   },
   "outputs": [
    {
     "data": {
      "text/plain": [
       "(63805,)"
      ]
     },
     "execution_count": 43,
     "metadata": {},
     "output_type": "execute_result"
    }
   ],
   "source": [
    "y_train.shape"
   ]
  },
  {
   "cell_type": "code",
   "execution_count": null,
   "metadata": {
    "collapsed": false
   },
   "outputs": [],
   "source": [
    "pipe = Pipeline_imb([\n",
    "    ('vectorizer',TfidfVectorizer()),\n",
    "    ('resampling',SMOTE()),\n",
    "    ('bayes',MultinomialNB())\n",
    "])\n",
    "param_bayes = {\n",
    "    'vectorizer__min_df':[10,20,50],\n",
    "    'vectorizer__max_df':[0.2,0.3,0.5,0.7],\n",
    "    'resampling__k_neighbors':[3,5],\n",
    "    'resampling__m_neighbors':[7,10],\n",
    "    'bayes__alpha':[0.01,0.1,1.0]\n",
    "}"
   ]
  },
  {
   "cell_type": "code",
   "execution_count": null,
   "metadata": {
    "collapsed": false
   },
   "outputs": [],
   "source": [
    "pipe = Pipeline_imb([\n",
    "    ('vectorizer',TfidfVectorizer()),\n",
    "    ('resampling',SMOTE()),\n",
    "    ('bayes',MultinomialNB())\n",
    "])\n",
    "param_bayes = {\n",
    "    'vectorizer__min_df':[10,20,50],\n",
    "    'vectorizer__max_df':[0.2,0.3,0.5,0.7],\n",
    "    'resampling__k_neighbors':[3,5],\n",
    "    'resampling__m_neighbors':[7,10],\n",
    "    'bayes__alpha':[0.01,0.1,1.0]\n",
    "}"
   ]
  },
  {
   "cell_type": "code",
   "execution_count": null,
   "metadata": {
    "collapsed": true
   },
   "outputs": [],
   "source": [
    "grid = GridSearchCV(estimator=pipe,\n",
    "                   param_grid = param_bayes,\n",
    "                   scoring='f1_micro',\n",
    "                   n_jobs=-1,\n",
    "                   cv=KFold(5,shuffle=True))"
   ]
  },
  {
   "cell_type": "code",
   "execution_count": null,
   "metadata": {
    "collapsed": false
   },
   "outputs": [],
   "source": [
    "grid.fit(processed_tweets_small.flatten(),y_train_small)"
   ]
  },
  {
   "cell_type": "code",
   "execution_count": null,
   "metadata": {
    "collapsed": false
   },
   "outputs": [],
   "source": [
    "grid.best_estimator_"
   ]
  },
  {
   "cell_type": "code",
   "execution_count": null,
   "metadata": {
    "collapsed": false
   },
   "outputs": [],
   "source": [
    "grid.best_score_"
   ]
  },
  {
   "cell_type": "code",
   "execution_count": null,
   "metadata": {
    "collapsed": true
   },
   "outputs": [],
   "source": []
  },
  {
   "cell_type": "code",
   "execution_count": null,
   "metadata": {
    "collapsed": true
   },
   "outputs": [],
   "source": []
  },
  {
   "cell_type": "code",
   "execution_count": null,
   "metadata": {
    "collapsed": true
   },
   "outputs": [],
   "source": []
  },
  {
   "cell_type": "code",
   "execution_count": null,
   "metadata": {
    "collapsed": true
   },
   "outputs": [],
   "source": []
  },
  {
   "cell_type": "code",
   "execution_count": null,
   "metadata": {
    "collapsed": true
   },
   "outputs": [],
   "source": []
  },
  {
   "cell_type": "code",
   "execution_count": null,
   "metadata": {
    "collapsed": true
   },
   "outputs": [],
   "source": []
  },
  {
   "cell_type": "markdown",
   "metadata": {},
   "source": [
    "### 3.4 Bag of words"
   ]
  },
  {
   "cell_type": "code",
   "execution_count": null,
   "metadata": {
    "collapsed": true
   },
   "outputs": [],
   "source": [
    "vectorizer = TfidfVectorizer(max_df=0.2,min_df=20)"
   ]
  },
  {
   "cell_type": "code",
   "execution_count": null,
   "metadata": {
    "collapsed": true
   },
   "outputs": [],
   "source": [
    "bow = vectorizer.fit_transform(processed_tweets)"
   ]
  },
  {
   "cell_type": "code",
   "execution_count": null,
   "metadata": {
    "collapsed": false
   },
   "outputs": [],
   "source": [
    "bow.shape"
   ]
  },
  {
   "cell_type": "markdown",
   "metadata": {},
   "source": [
    "### 4. Resampling imablanced dataset"
   ]
  },
  {
   "cell_type": "code",
   "execution_count": null,
   "metadata": {
    "collapsed": false
   },
   "outputs": [],
   "source": [
    "y_train.value_counts()"
   ]
  },
  {
   "cell_type": "code",
   "execution_count": null,
   "metadata": {
    "collapsed": false
   },
   "outputs": [],
   "source": [
    "smote = SMOTE(n_jobs=2)"
   ]
  },
  {
   "cell_type": "code",
   "execution_count": null,
   "metadata": {
    "collapsed": false
   },
   "outputs": [],
   "source": [
    "bow_res,y_train_res = smote.fit_sample(bow,y_train)"
   ]
  },
  {
   "cell_type": "code",
   "execution_count": null,
   "metadata": {
    "collapsed": false
   },
   "outputs": [],
   "source": [
    "y_train_resS = pd.Series(y_train_res)"
   ]
  },
  {
   "cell_type": "code",
   "execution_count": null,
   "metadata": {
    "collapsed": false
   },
   "outputs": [],
   "source": [
    "y_train_resS.value_counts()"
   ]
  },
  {
   "cell_type": "code",
   "execution_count": null,
   "metadata": {
    "collapsed": false
   },
   "outputs": [],
   "source": [
    "bow_res.shape"
   ]
  },
  {
   "cell_type": "code",
   "execution_count": null,
   "metadata": {
    "collapsed": true
   },
   "outputs": [],
   "source": [
    "svd = TruncatedSVD(n_components=1000)\n",
    "bow_svd_ = svd.fit_transform(bow_res)"
   ]
  },
  {
   "cell_type": "code",
   "execution_count": null,
   "metadata": {
    "collapsed": false
   },
   "outputs": [],
   "source": [
    "np.sum(svd.explained_variance_ratio_)"
   ]
  },
  {
   "cell_type": "code",
   "execution_count": null,
   "metadata": {
    "collapsed": true
   },
   "outputs": [],
   "source": [
    "scaler = MinMaxScaler()\n",
    "bow_scaled = scaler.fit_transform(bow_svd_)"
   ]
  },
  {
   "cell_type": "code",
   "execution_count": null,
   "metadata": {
    "collapsed": false
   },
   "outputs": [],
   "source": [
    "bow_svd_.shape"
   ]
  },
  {
   "cell_type": "code",
   "execution_count": null,
   "metadata": {
    "collapsed": true
   },
   "outputs": [],
   "source": [
    "bayes = MultinomialNB?"
   ]
  },
  {
   "cell_type": "code",
   "execution_count": null,
   "metadata": {
    "collapsed": true
   },
   "outputs": [],
   "source": [
    "bayes = MultinomialNB"
   ]
  },
  {
   "cell_type": "code",
   "execution_count": null,
   "metadata": {
    "collapsed": false
   },
   "outputs": [],
   "source": [
    "bayes.fit(bow_scaled,y_train_res)"
   ]
  },
  {
   "cell_type": "code",
   "execution_count": null,
   "metadata": {
    "collapsed": false
   },
   "outputs": [],
   "source": [
    "accuracy_score(y_train_res,bayes.predict(bow_scaled))"
   ]
  },
  {
   "cell_type": "code",
   "execution_count": null,
   "metadata": {
    "collapsed": true
   },
   "outputs": [],
   "source": [
    "y_pred = bayes.predict(bow_scaled)"
   ]
  },
  {
   "cell_type": "code",
   "execution_count": null,
   "metadata": {
    "collapsed": false
   },
   "outputs": [],
   "source": [
    "print(classification_report(y_true=y_train_res,y_pred=y_pred,labels=names))"
   ]
  },
  {
   "cell_type": "code",
   "execution_count": null,
   "metadata": {
    "collapsed": false
   },
   "outputs": [],
   "source": [
    "cm = confusion_matrix(y_true=y_train_res,y_pred=y_pred)\n",
    "\n",
    "plt.figure(figsize=(10,10))\n",
    "sns.heatmap(cm.T,square=True,annot=True,fmt='d',cbar=False,\n",
    "            xticklabels=names,yticklabels=names)\n",
    "plt.xlabel('true label')\n",
    "plt.ylabel('predicted label')\n",
    "plt.show()"
   ]
  },
  {
   "cell_type": "code",
   "execution_count": null,
   "metadata": {
    "collapsed": true
   },
   "outputs": [],
   "source": []
  },
  {
   "cell_type": "code",
   "execution_count": null,
   "metadata": {
    "collapsed": true
   },
   "outputs": [],
   "source": []
  },
  {
   "cell_type": "code",
   "execution_count": null,
   "metadata": {
    "collapsed": true
   },
   "outputs": [],
   "source": []
  },
  {
   "cell_type": "code",
   "execution_count": null,
   "metadata": {
    "collapsed": true
   },
   "outputs": [],
   "source": []
  },
  {
   "cell_type": "code",
   "execution_count": null,
   "metadata": {
    "collapsed": true
   },
   "outputs": [],
   "source": []
  },
  {
   "cell_type": "code",
   "execution_count": null,
   "metadata": {
    "collapsed": true
   },
   "outputs": [],
   "source": []
  },
  {
   "cell_type": "code",
   "execution_count": null,
   "metadata": {
    "collapsed": true
   },
   "outputs": [],
   "source": []
  },
  {
   "cell_type": "code",
   "execution_count": null,
   "metadata": {
    "collapsed": true
   },
   "outputs": [],
   "source": []
  },
  {
   "cell_type": "code",
   "execution_count": null,
   "metadata": {
    "collapsed": false
   },
   "outputs": [],
   "source": [
    "ind_min = 15\n",
    "ind_max = 30\n",
    "for ind in range(ind_min,ind_max):\n",
    "    print(X_train.iloc[ind])\n",
    "    print()"
   ]
  },
  {
   "cell_type": "code",
   "execution_count": null,
   "metadata": {
    "collapsed": false
   },
   "outputs": [],
   "source": [
    "print(X_train[y_train == 'KimKardashian'][520:540])"
   ]
  },
  {
   "cell_type": "raw",
   "metadata": {
    "collapsed": true
   },
   "source": []
  },
  {
   "cell_type": "code",
   "execution_count": null,
   "metadata": {
    "collapsed": true
   },
   "outputs": [],
   "source": []
  },
  {
   "cell_type": "code",
   "execution_count": null,
   "metadata": {
    "collapsed": true
   },
   "outputs": [],
   "source": []
  },
  {
   "cell_type": "code",
   "execution_count": null,
   "metadata": {
    "collapsed": true
   },
   "outputs": [],
   "source": []
  },
  {
   "cell_type": "code",
   "execution_count": null,
   "metadata": {
    "collapsed": true
   },
   "outputs": [],
   "source": []
  },
  {
   "cell_type": "code",
   "execution_count": null,
   "metadata": {
    "collapsed": true
   },
   "outputs": [],
   "source": []
  },
  {
   "cell_type": "code",
   "execution_count": null,
   "metadata": {
    "collapsed": true
   },
   "outputs": [],
   "source": []
  },
  {
   "cell_type": "code",
   "execution_count": null,
   "metadata": {
    "collapsed": false
   },
   "outputs": [],
   "source": []
  },
  {
   "cell_type": "markdown",
   "metadata": {},
   "source": [
    "### KDNuggets"
   ]
  },
  {
   "cell_type": "code",
   "execution_count": null,
   "metadata": {
    "collapsed": false
   },
   "outputs": [],
   "source": [
    "df_kd = pd.read_csv('Data/famous_tweets/10460KDNuggetsTweets.csv')"
   ]
  },
  {
   "cell_type": "code",
   "execution_count": null,
   "metadata": {
    "collapsed": false
   },
   "outputs": [],
   "source": [
    "df_kd.head(50)"
   ]
  },
  {
   "cell_type": "code",
   "execution_count": null,
   "metadata": {
    "collapsed": false
   },
   "outputs": [],
   "source": [
    "df_kd.shape"
   ]
  },
  {
   "cell_type": "code",
   "execution_count": null,
   "metadata": {
    "collapsed": false
   },
   "outputs": [],
   "source": [
    "df_kd2 = df.loc[df.author == 'kdnuggets']"
   ]
  },
  {
   "cell_type": "code",
   "execution_count": null,
   "metadata": {
    "collapsed": false
   },
   "outputs": [],
   "source": [
    "df_kd2.head()"
   ]
  },
  {
   "cell_type": "code",
   "execution_count": null,
   "metadata": {
    "collapsed": false
   },
   "outputs": [],
   "source": [
    "df_rd = df.loc[df.author == 'RichardDawkins']"
   ]
  },
  {
   "cell_type": "code",
   "execution_count": null,
   "metadata": {
    "collapsed": false
   },
   "outputs": [],
   "source": [
    "df_rd.head(10)"
   ]
  },
  {
   "cell_type": "markdown",
   "metadata": {},
   "source": [
    "### Adam Savage"
   ]
  },
  {
   "cell_type": "code",
   "execution_count": null,
   "metadata": {
    "collapsed": false
   },
   "outputs": [],
   "source": [
    "df_savage = pd.read_csv('Data/famous_tweets/AdamSavageTweets.csv',usecols=['link','text'])"
   ]
  },
  {
   "cell_type": "code",
   "execution_count": null,
   "metadata": {
    "collapsed": false
   },
   "outputs": [],
   "source": [
    "df_savage.shape"
   ]
  },
  {
   "cell_type": "code",
   "execution_count": null,
   "metadata": {
    "collapsed": false
   },
   "outputs": [],
   "source": [
    "df_savage.head()"
   ]
  },
  {
   "cell_type": "markdown",
   "metadata": {},
   "source": [
    "### Obama"
   ]
  },
  {
   "cell_type": "code",
   "execution_count": null,
   "metadata": {
    "collapsed": false
   },
   "outputs": [],
   "source": [
    "df_obama = pd.read_csv('Data/famous_tweets/BarackObama.csv',usecols=['link','text'])"
   ]
  },
  {
   "cell_type": "code",
   "execution_count": null,
   "metadata": {
    "collapsed": false
   },
   "outputs": [],
   "source": [
    "df_obama.shape"
   ]
  },
  {
   "cell_type": "markdown",
   "metadata": {},
   "source": [
    "### Trump"
   ]
  },
  {
   "cell_type": "code",
   "execution_count": null,
   "metadata": {
    "collapsed": false
   },
   "outputs": [],
   "source": [
    "df_trump = pd.read_csv('Data/famous_tweets/DonaldTrumpTweets.csv',usecols=['link','text'])"
   ]
  },
  {
   "cell_type": "code",
   "execution_count": null,
   "metadata": {
    "collapsed": false
   },
   "outputs": [],
   "source": [
    "df_trump.shape"
   ]
  },
  {
   "cell_type": "markdown",
   "metadata": {},
   "source": [
    "### FiveThirtyEight"
   ]
  },
  {
   "cell_type": "code",
   "execution_count": null,
   "metadata": {
    "collapsed": false
   },
   "outputs": [],
   "source": [
    "df_539 = pd.read_csv('Data/famous_tweets/FiveThirtyEightTweets.csv',usecols=['link','text'])"
   ]
  },
  {
   "cell_type": "code",
   "execution_count": null,
   "metadata": {
    "collapsed": false
   },
   "outputs": [],
   "source": [
    "df_539.shape"
   ]
  },
  {
   "cell_type": "markdown",
   "metadata": {},
   "source": [
    "### Tyson"
   ]
  },
  {
   "cell_type": "code",
   "execution_count": null,
   "metadata": {
    "collapsed": false
   },
   "outputs": [],
   "source": [
    "df_tyson = pd.read_csv('Data/famous_tweets/NeildeGrasseTysonTweets.csv',usecols=['link','text'])"
   ]
  },
  {
   "cell_type": "code",
   "execution_count": null,
   "metadata": {
    "collapsed": false
   },
   "outputs": [],
   "source": [
    "df_tyson.shape"
   ]
  },
  {
   "cell_type": "markdown",
   "metadata": {},
   "source": [
    "### Ricahrd Dawkins"
   ]
  },
  {
   "cell_type": "code",
   "execution_count": null,
   "metadata": {
    "collapsed": false
   },
   "outputs": [],
   "source": [
    "df_dawkins = pd.read_csv('Data/famous_tweets/RichardDawkins.csv',usecols=['link','text'])"
   ]
  },
  {
   "cell_type": "code",
   "execution_count": null,
   "metadata": {
    "collapsed": false
   },
   "outputs": [],
   "source": [
    "df_dawkins.shape"
   ]
  },
  {
   "cell_type": "markdown",
   "metadata": {},
   "source": [
    "### Clinton"
   ]
  },
  {
   "cell_type": "code",
   "execution_count": null,
   "metadata": {
    "collapsed": false
   },
   "outputs": [],
   "source": [
    "df_clinton = pd.read_csv('Data/famous_tweets/HillaryClintonTweets.csv')"
   ]
  },
  {
   "cell_type": "code",
   "execution_count": null,
   "metadata": {
    "collapsed": false
   },
   "outputs": [],
   "source": [
    "df_clinton.shape"
   ]
  },
  {
   "cell_type": "code",
   "execution_count": null,
   "metadata": {
    "collapsed": true
   },
   "outputs": [],
   "source": [
    "df_kim = pd.read_csv('Data/famous_tweets/KimKardashianTweets.csv')"
   ]
  },
  {
   "cell_type": "code",
   "execution_count": null,
   "metadata": {
    "collapsed": false
   },
   "outputs": [],
   "source": [
    "df_kim.shape"
   ]
  },
  {
   "cell_type": "code",
   "execution_count": null,
   "metadata": {
    "collapsed": false
   },
   "outputs": [],
   "source": [
    "df_kelly = pd.read_csv('Data/famous_tweets/ScottKelly.csv')\n",
    "df_kelly.shape"
   ]
  },
  {
   "cell_type": "code",
   "execution_count": null,
   "metadata": {
    "collapsed": true
   },
   "outputs": [],
   "source": []
  },
  {
   "cell_type": "code",
   "execution_count": null,
   "metadata": {
    "collapsed": true
   },
   "outputs": [],
   "source": []
  },
  {
   "cell_type": "code",
   "execution_count": null,
   "metadata": {
    "collapsed": true
   },
   "outputs": [],
   "source": []
  },
  {
   "cell_type": "code",
   "execution_count": null,
   "metadata": {
    "collapsed": true
   },
   "outputs": [],
   "source": []
  },
  {
   "cell_type": "code",
   "execution_count": null,
   "metadata": {
    "collapsed": false
   },
   "outputs": [],
   "source": [
    "id_min = 10\n",
    "id_max = 50\n",
    "for ind in range(id_min,id_max):\n",
    "    print(df_539.text[ind])"
   ]
  },
  {
   "cell_type": "code",
   "execution_count": null,
   "metadata": {
    "collapsed": true
   },
   "outputs": [],
   "source": []
  }
 ],
 "metadata": {
  "kernelspec": {
   "display_name": "Python 3",
   "language": "python",
   "name": "python3"
  },
  "language_info": {
   "codemirror_mode": {
    "name": "ipython",
    "version": 3
   },
   "file_extension": ".py",
   "mimetype": "text/x-python",
   "name": "python",
   "nbconvert_exporter": "python",
   "pygments_lexer": "ipython3",
   "version": "3.6.6"
  }
 },
 "nbformat": 4,
 "nbformat_minor": 2
}
